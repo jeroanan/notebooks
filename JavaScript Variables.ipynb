{
 "cells": [
  {
   "cell_type": "markdown",
   "metadata": {},
   "source": [
    "# JavaScript Variables\n",
    "\n",
    "By Dave Wilson\n",
    "\n",
    "In this little tutorial we cover:\n",
    "\n",
    "* Different types of variable\n",
    "* Object destructuring\n",
    "* Spread syntax\n",
    "* Any other questions that might arise that don't fit in anywhere else\n",
    "\n",
    "### Types of Variable declaration\n",
    "\n",
    "## let\n",
    "\n",
    "A variable that is defined with let can have its value changed, or **mutated**."
   ]
  },
  {
   "cell_type": "code",
   "execution_count": 1,
   "metadata": {},
   "outputs": [
    {
     "name": "stdout",
     "output_type": "stream",
     "text": [
      "{ letVar: 1 }\n",
      "{ letVar: 2 }\n"
     ]
    }
   ],
   "source": [
    "let letVar = 1;\n",
    "\n",
    "console.debug({ letVar });\n",
    "\n",
    "letVar = 2;\n",
    "\n",
    "console.debug({ letVar });"
   ]
  },
  {
   "cell_type": "markdown",
   "metadata": {},
   "source": [
    "let variables are **scoped** -- and this is their main difference from the **var** variables you may be accustomed to using:"
   ]
  },
  {
   "cell_type": "code",
   "execution_count": 2,
   "metadata": {},
   "outputs": [],
   "source": [
    "{\n",
    "    // This is a separate scope...\n",
    "    let var1 = 'apple';\n",
    "    var var2 = 'banana';\n",
    "}\n",
    "\n",
    "\n",
    "// .. from this\n",
    "// console.debug(var1); // This will throw an error, as it's out of scope"
   ]
  },
  {
   "cell_type": "code",
   "execution_count": 3,
   "metadata": {},
   "outputs": [
    {
     "name": "stdout",
     "output_type": "stream",
     "text": [
      "{ var2: 'banana' }\n"
     ]
    }
   ],
   "source": [
    "{\n",
    "    // This is a separate scope...\n",
    "    let var1 = 'apple';\n",
    "    var var2 = 'banana';\n",
    "}\n",
    "\n",
    "\n",
    "// .. from this\n",
    "console.debug({ var2 }); // This will *not* throw an error, as var2 is \"hoisted\" into the global scope.\n",
    "                         // We can only reference it after it has been defined in the code, though."
   ]
  },
  {
   "cell_type": "markdown",
   "metadata": {},
   "source": [
    "## const\n",
    "\n",
    "A variable declared with const cannot have its value reassigned after its initial declaration."
   ]
  },
  {
   "cell_type": "code",
   "execution_count": 4,
   "metadata": {},
   "outputs": [
    {
     "name": "stdout",
     "output_type": "stream",
     "text": [
      "ananab\n"
     ]
    }
   ],
   "source": [
    "let var1 = 'apple';\n",
    "var var2 = 'banana';\n",
    "const var3 = 'cherry';\n",
    "\n",
    "var1 = 'elppa';\n",
    "var2 = 'ananab';\n",
    "// var3 = 'yrrehc'; // This will error -- cannot reassign a const after initial declaration!"
   ]
  },
  {
   "cell_type": "markdown",
   "metadata": {},
   "source": [
    "We can do the following, however:"
   ]
  },
  {
   "cell_type": "code",
   "execution_count": 5,
   "metadata": {},
   "outputs": [
    {
     "name": "stdout",
     "output_type": "stream",
     "text": [
      "{ fruit: { name: 'damsen', weight: 2 } }\n",
      "{ fruit: { name: 'damsen', weight: 3 } }\n"
     ]
    }
   ],
   "source": [
    "const fruit = {\n",
    "    'name': 'damsen',\n",
    "    'weight': 2,\n",
    "};\n",
    "\n",
    "console.debug({ fruit })\n",
    "\n",
    "fruit.weight = 3;\n",
    "\n",
    "console.debug({ fruit });"
   ]
  },
  {
   "cell_type": "markdown",
   "metadata": {},
   "source": [
    "So we cannot reassign the variable wholesale, but here we can see that we can change its member values. We can make the members of an object unchangeable by using Object.freeze:"
   ]
  },
  {
   "cell_type": "code",
   "execution_count": 6,
   "metadata": {},
   "outputs": [],
   "source": [
    "const fruit = Object.freeze({\n",
    "    'name': 'dragonfruit',\n",
    "    'weight': 5,\n",
    "});\n",
    "\n",
    "// fruit.weight = 6; // Error! The object has been frozen so all members are read-only."
   ]
  },
  {
   "cell_type": "markdown",
   "metadata": {},
   "source": [
    "## Object Destructuring\n",
    "\n",
    "Let's say I have the following object:\n"
   ]
  },
  {
   "cell_type": "code",
   "execution_count": 7,
   "metadata": {},
   "outputs": [],
   "source": [
    "const product = {\n",
    "    'id': 10000,\n",
    "    'name': 'widget',\n",
    "    'inventory': 523,\n",
    "    'unitPrice': 41.95,\n",
    "    'discontinued': false,\n",
    "    'dimensions': {\n",
    "        'height': 10,\n",
    "        'width': 20,\n",
    "        'depth': 30,\n",
    "    }\n",
    "};"
   ]
  },
  {
   "cell_type": "markdown",
   "metadata": {},
   "source": [
    "I *could* access its members directly:"
   ]
  },
  {
   "cell_type": "code",
   "execution_count": 8,
   "metadata": {},
   "outputs": [
    {
     "name": "stdout",
     "output_type": "stream",
     "text": [
      "I have 523 of widget that I sell for 41.95 each.\n"
     ]
    }
   ],
   "source": [
    "console.debug(`I have ${product.inventory} of ${product.name} that I sell for ${product.unitPrice} each.`)"
   ]
  },
  {
   "cell_type": "markdown",
   "metadata": {},
   "source": [
    "But what I can also do is destructure the members into individual variables. Note that I am also destructuring the nested dimension object into height, width and depth."
   ]
  },
  {
   "cell_type": "code",
   "execution_count": 9,
   "metadata": {},
   "outputs": [
    {
     "name": "stdout",
     "output_type": "stream",
     "text": [
      "I have 523 of widget that I sell for 41.95 each.\n",
      "The product is 10 high, 20 wide and 30 deep.\n"
     ]
    }
   ],
   "source": [
    "const product = {\n",
    "    'id': 10000,\n",
    "    'name': 'widget',\n",
    "    'inventory': 523,\n",
    "    'unitPrice': 41.95,\n",
    "    'discontinued': false,\n",
    "    'dimensions': {\n",
    "        'height': 10,\n",
    "        'width': 20,\n",
    "        'depth': 30,\n",
    "    }\n",
    "};\n",
    "\n",
    "const { name, inventory, unitPrice, dimensions: { height, width, depth } } = product;\n",
    "console.debug(`I have ${inventory} of ${name} that I sell for ${unitPrice} each.`)\n",
    "\n",
    "// Yes, height, width and depth are variables. dimensions is not, though.\n",
    "console.debug(`The product is ${height} high, ${width} wide and ${depth} deep.`)\n"
   ]
  },
  {
   "cell_type": "markdown",
   "metadata": {},
   "source": [
    "I can do it with arrays, too. Note the elipses give me values that \"fill\" the rest of the elements:"
   ]
  },
  {
   "cell_type": "code",
   "execution_count": 10,
   "metadata": {},
   "outputs": [
    {
     "name": "stdout",
     "output_type": "stream",
     "text": [
      "{ one: 1, two: 2 }\n",
      "{ first: 1, second: 2, theRestOfThem: [ 3, 4, 5, 6, 7 ] }\n"
     ]
    }
   ],
   "source": [
    "const myArr = [1,2,3,4,5,6,7];\n",
    "\n",
    "const [one, two] = myArr;\n",
    "const [first, second, ...theRestOfThem] = myArr;\n",
    "\n",
    "console.debug({ one, two });\n",
    "console.debug({ first, second, theRestOfThem }); "
   ]
  },
  {
   "cell_type": "markdown",
   "metadata": {},
   "source": [
    "## Spread Syntax\n",
    "\n",
    "Let's say I have an object that represents a red cube:"
   ]
  },
  {
   "cell_type": "code",
   "execution_count": 11,
   "metadata": {},
   "outputs": [],
   "source": [
    "const redCube = {\n",
    "    'colour': 'red',\n",
    "    'sideLength': 6,\n",
    "    'faceStyle': 'matt'\n",
    "};"
   ]
  },
  {
   "cell_type": "markdown",
   "metadata": {},
   "source": [
    "And now I want to make a cube that's identical, only green. I could make define a new variable, taking all members from redCube and just changing name to 'green', or I could do the following:"
   ]
  },
  {
   "cell_type": "code",
   "execution_count": 12,
   "metadata": {},
   "outputs": [
    {
     "name": "stdout",
     "output_type": "stream",
     "text": [
      "{ greenCube: { colour: 'green', sideLength: 6, faceStyle: 'matt' } }\n"
     ]
    }
   ],
   "source": [
    "const greenCube = {\n",
    "    ...redCube,\n",
    "    colour: 'green',\n",
    "};\n",
    "\n",
    "console.debug({ greenCube });"
   ]
  },
  {
   "cell_type": "markdown",
   "metadata": {},
   "source": [
    "You can think of the \"...redcube\" bit as saying \"take all the properties of redCube\". And then because JavaScript uses the \"latest\" definition of a value, our new value of \"colour\" takes precedence over the one from redCube."
   ]
  },
  {
   "cell_type": "code",
   "execution_count": 13,
   "metadata": {},
   "outputs": [
    {
     "name": "stdout",
     "output_type": "stream",
     "text": [
      "{ yellowCube: { colour: 'green', sideLength: 6, faceStyle: 'matt' } }\n"
     ]
    }
   ],
   "source": [
    "const yellowCube = {\n",
    "    colour: 'yellow',\n",
    "    ...greenCube,\n",
    "};\n",
    "\n",
    "console.debug({ yellowCube });"
   ]
  },
  {
   "cell_type": "markdown",
   "metadata": {},
   "source": [
    "Ah. We start by defining the colour as yellow, but then we include all the properties of greenCube. This causes the colour to go back to green. So always remember to do your spreading before the properties you want to override.\n",
    "\n",
    "We can also use spread syntax to build up arrays:"
   ]
  },
  {
   "cell_type": "code",
   "execution_count": 14,
   "metadata": {},
   "outputs": [
    {
     "name": "stdout",
     "output_type": "stream",
     "text": [
      "[\n",
      "  'January',   'Feburary',\n",
      "  'March',     'April',\n",
      "  'May',       'June',\n",
      "  'July',      'August',\n",
      "  'September', 'October',\n",
      "  'November',  'December'\n",
      "]\n"
     ]
    }
   ],
   "source": [
    "const firstFewMonths = ['January', 'Feburary', 'March', 'April'];\n",
    "const lastFewMonths = ['September', 'October', 'November', 'December'];\n",
    "\n",
    "const allMonths = [...firstFewMonths, 'May', 'June', 'July', 'August', ...lastFewMonths];\n",
    "\n",
    "console.debug(allMonths);"
   ]
  },
  {
   "cell_type": "markdown",
   "metadata": {},
   "source": [
    "## Other Stuff\n",
    "\n",
    "### Why the trailing comma?\n",
    "\n",
    "You will commonly see the last member of an object whose definition spans multiple lines end with a trailing comma, such as with the colour of the below bird:"
   ]
  },
  {
   "cell_type": "code",
   "execution_count": 15,
   "metadata": {},
   "outputs": [],
   "source": [
    "const bird = {\n",
    "    'name': 'sparrow',\n",
    "    'colour': 'brown',\n",
    "};"
   ]
  },
  {
   "cell_type": "markdown",
   "metadata": {},
   "source": [
    "Why the trailing comma? This is so that if we were to add an additional property to the object, our version control system's diff output would show only the new line changed. Without the trailing comma it would show the new line, plus previous line, as we would have added a comma to the end of it."
   ]
  }
 ],
 "metadata": {
  "kernelspec": {
   "display_name": "JavaScript",
   "language": "javascript",
   "name": "jslab"
  },
  "language_info": {
   "file_extension": ".js",
   "mimetype": "text/javascript",
   "name": "javascript",
   "version": ""
  }
 },
 "nbformat": 4,
 "nbformat_minor": 4
}
