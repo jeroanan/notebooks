{
 "cells": [
  {
   "cell_type": "markdown",
   "metadata": {},
   "source": [
    "# Functional Fun in Javascript\n",
    "\n",
    "A bit of an introduction to and fun & games with using basic Functional Programming (FP) tools in JavaScript"
   ]
  },
  {
   "cell_type": "markdown",
   "metadata": {},
   "source": [
    "## Data\n",
    "\n",
    "First up, some data we will be working with to describe products, their prices and whether they're in stock."
   ]
  },
  {
   "cell_type": "code",
   "execution_count": 1,
   "metadata": {},
   "outputs": [],
   "source": [
    "const makeProduct = (id, description, price, inStock) => { return { id, description, price, inStock } };\n",
    "\n",
    "const products = [\n",
    "    makeProduct(10000, 'widget', 50.99, true),\n",
    "    makeProduct(20000, 'thingy', 105.95, false),\n",
    "    makeProduct(30000, 'banana', 20.00, true),\n",
    "    makeProduct(40000, 'teapot', 75.00, false),\n",
    "    makeProduct(50000, 'laptop', 500.00, true),\n",
    "];"
   ]
  },
  {
   "cell_type": "markdown",
   "metadata": {},
   "source": [
    "## Map\n",
    "\n",
    "Map takes an array and transforms it into a different array.\n",
    "\n",
    "const result = array.map(transformationFunction);\n",
    "\n",
    "transformationFunction is run on each member of the array and each time it is run it returns the transformation of that member.\n",
    "\n",
    "### Examples\n",
    "\n",
    "#### Example 1: Get an array of product descriptions and prices from our product data"
   ]
  },
  {
   "cell_type": "code",
   "execution_count": 2,
   "metadata": {},
   "outputs": [
    {
     "name": "stdout",
     "output_type": "stream",
     "text": [
      "[\n",
      "  { description: 'widget', price: 50.99 },\n",
      "  { description: 'thingy', price: 105.95 },\n",
      "  { description: 'banana', price: 20 },\n",
      "  { description: 'teapot', price: 75 },\n",
      "  { description: 'laptop', price: 500 }\n",
      "]\n"
     ]
    }
   ],
   "source": [
    "const productDescriptionsAndPrices = products.map(p => {\n",
    "   return {\n",
    "       description: p.description,\n",
    "       price: p.price,\n",
    "   } \n",
    "});\n",
    "\n",
    "console.log(productDescriptionsAndPrices);"
   ]
  },
  {
   "cell_type": "markdown",
   "metadata": {},
   "source": [
    "## Filter\n",
    "\n",
    "Filter takes an array returns another array that only contains the members of the original array that cause the predicate function to be true.\n",
    "\n",
    "const result = array.filter(predicateFunction);\n",
    "\n",
    "transformationFunction is run on each member of the array and returns true if the give member meets the filter criteria, and false otherwise.\n",
    "\n",
    "### Examples\n",
    "\n",
    "#### Example 1: Get an array containing only the items that are in stock and another array with items that are out of stock"
   ]
  },
  {
   "cell_type": "code",
   "execution_count": 3,
   "metadata": {},
   "outputs": [
    {
     "name": "stdout",
     "output_type": "stream",
     "text": [
      "In stock:\n",
      "[\n",
      "  { id: 10000, description: 'widget', price: 50.99, inStock: true },\n",
      "  { id: 30000, description: 'banana', price: 20, inStock: true },\n",
      "  { id: 50000, description: 'laptop', price: 500, inStock: true }\n",
      "]\n",
      "Out of stock:\n",
      "[\n",
      "  { id: 20000, description: 'thingy', price: 105.95, inStock: false },\n",
      "  { id: 40000, description: 'teapot', price: 75, inStock: false }\n",
      "]\n"
     ]
    }
   ],
   "source": [
    "const inStockOnly = products.filter(p => p.inStock);\n",
    "const outOfStock = products.filter(p => !p.inStock);\n",
    "\n",
    "console.log('In stock:');\n",
    "console.log(inStockOnly);\n",
    "\n",
    "console.log('Out of stock:');\n",
    "console.log(outOfStock);"
   ]
  },
  {
   "cell_type": "markdown",
   "metadata": {},
   "source": [
    "## Reduce\n",
    "\n",
    "Reduce takes an array and \"reduces\" it down to one value.\n",
    "\n",
    "const result = array.reduce(reductionFunction);\n",
    "\n",
    "The reducer function most commonly has two parameters:\n",
    "\n",
    "a -- the current running \"total\"\n",
    "\n",
    "b -- the current element from the array.\n",
    "\n",
    "### Examples\n",
    "\n",
    "#### Example 1: Find the sum of an array of integers"
   ]
  },
  {
   "cell_type": "code",
   "execution_count": 4,
   "metadata": {},
   "outputs": [
    {
     "name": "stdout",
     "output_type": "stream",
     "text": [
      "The result is: 6\n"
     ]
    }
   ],
   "source": [
    "const integers = [1, 2, 3];\n",
    "const result = integers.reduce((a,b) => a+b);\n",
    "\n",
    "console.log(`The result is: ${result}`);"
   ]
  },
  {
   "cell_type": "markdown",
   "metadata": {},
   "source": [
    "#### Example 2: Find the total price of all of our products"
   ]
  },
  {
   "cell_type": "code",
   "execution_count": 5,
   "metadata": {},
   "outputs": [
    {
     "name": "stdout",
     "output_type": "stream",
     "text": [
      "The total price of our products is: 751.94\n"
     ]
    }
   ],
   "source": [
    "const totalPrice = products\n",
    "    .map(p => p.price)\n",
    "    .reduce((a, b) => a+b);\n",
    "\n",
    "console.debug(`The total price of our products is: ${totalPrice}`);\n",
    "\n"
   ]
  },
  {
   "cell_type": "markdown",
   "metadata": {},
   "source": [
    "Notice that in the above example I am calling map to get an array of product prices and then calling reduce on its output. This is an example of **mapReduce**. Let's do another one that checks whether any products in a list are out of stock.\n",
    "\n",
    "#### Example 3: Check if any items are out of stock."
   ]
  },
  {
   "cell_type": "code",
   "execution_count": 6,
   "metadata": {},
   "outputs": [
    {
     "name": "stdout",
     "output_type": "stream",
     "text": [
      "All products all in stock: false\n",
      "In stock products all in stock: true\n"
     ]
    }
   ],
   "source": [
    "const checkOutOfStock = ps =>\n",
    "    ps.map(p => p.inStock)\n",
    "        .reduce((a,b) => a&&b);\n",
    "\n",
    "const stockCheckAllProducts = checkOutOfStock(products);\n",
    "const stockCheckInStockProducts = checkOutOfStock(inStockOnly);\n",
    "\n",
    "console.debug(`All products all in stock: ${stockCheckAllProducts}`);\n",
    "console.debug(`In stock products all in stock: ${stockCheckInStockProducts}`);\n"
   ]
  },
  {
   "cell_type": "markdown",
   "metadata": {},
   "source": [
    "Note that we could also do example 3 more succinctly using *Array.some*:\n",
    "\n",
    "#### Example 4: Check if any items are out of stock using Array.some\n"
   ]
  },
  {
   "cell_type": "code",
   "execution_count": 7,
   "metadata": {},
   "outputs": [
    {
     "name": "stdout",
     "output_type": "stream",
     "text": [
      "All products all in stock: false\n",
      "In stock products all in stock: true\n"
     ]
    }
   ],
   "source": [
    "const stockCheckAllProductsWithSome = products.some(x => x.inStock);\n",
    "const stockCheckInStockProductsWithSome = products.some(x => x.inStock);\n",
    "\n",
    "console.debug(`All products all in stock: ${stockCheckAllProducts}`);\n",
    "console.debug(`In stock products all in stock: ${stockCheckInStockProducts}`);"
   ]
  },
  {
   "cell_type": "markdown",
   "metadata": {},
   "source": [
    "Finally, let's bring together filter, map and reduce to get the total price of all of our in-stock products\n",
    "\n",
    "#### Example 5: Get the total price for all in-stock products\n"
   ]
  },
  {
   "cell_type": "code",
   "execution_count": 8,
   "metadata": {},
   "outputs": [
    {
     "name": "stdout",
     "output_type": "stream",
     "text": [
      "The total price of our in-stock products is: 570.99\n"
     ]
    }
   ],
   "source": [
    "const totalInStockPrice = products\n",
    "    .filter(p => p.inStock)\n",
    "    .map(p => p.price)\n",
    "    .reduce((a, b) => a+b);\n",
    "\n",
    "console.debug(`The total price of our in-stock products is: ${totalInStockPrice}`);"
   ]
  }
 ],
 "metadata": {
  "kernelspec": {
   "display_name": "JavaScript",
   "language": "javascript",
   "name": "jslab"
  },
  "language_info": {
   "file_extension": ".js",
   "mimetype": "text/javascript",
   "name": "javascript",
   "version": ""
  }
 },
 "nbformat": 4,
 "nbformat_minor": 4
}
